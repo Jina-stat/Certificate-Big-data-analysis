{
 "cells": [
  {
   "cell_type": "markdown",
   "metadata": {},
   "source": [
    "### 모의고사 1회 문제 - 3유형"
   ]
  },
  {
   "cell_type": "code",
   "execution_count": 6,
   "metadata": {},
   "outputs": [
    {
     "name": "stdout",
     "output_type": "stream",
     "text": [
      "77.88\n",
      "1.15\n",
      "0.2507\n"
     ]
    }
   ],
   "source": [
    "# 온도 평균이 77과 일치하는지 t-test\n",
    "import pandas as pd\n",
    "import numpy as np\n",
    "# X 의 평균 소수점 둘째자리까지 반올림\n",
    "df = pd.read_csv('https://raw.githubusercontent.com/YoungjinBD/dataset/main/airquality.csv')\n",
    "print(round(df['Temp'].mean(), 2))\n",
    "\n",
    "# 가설검정을 위한 검정 통계량 소수점 둘째자리까지 반올림\n",
    "import scipy.stats as ss\n",
    "statistic, p_value = ss.ttest_1samp(df['Temp'], popmean = 77)\n",
    "print(round(statistic, 2))\n",
    "\n",
    "# p-value 소수점 넷째자리까지 반올림하고 채택 기각 선택\n",
    "print(round(p_value, 4))\n",
    "# 0.25 > 0.05 로 귀무가설을 기각하지못한다. 채택"
   ]
  },
  {
   "cell_type": "markdown",
   "metadata": {},
   "source": [
    "### 모의고사 2회 문제 - 3유형"
   ]
  },
  {
   "cell_type": "code",
   "execution_count": 18,
   "metadata": {},
   "outputs": [
    {
     "name": "stdout",
     "output_type": "stream",
     "text": [
      "301\n",
      "0.82\n",
      "0.6647\n"
     ]
    }
   ],
   "source": [
    "# 결혼 유무에 따라 초과근로 여부에 차이가 있는지 카이제곱 검정을 통해 확인\n",
    "\n",
    "# 결혼유무와 초과근로간의 분할표 만들고 결혼한 집단의 초과근로자의 수와 초과근로하지않은 수의차이를 정수로 계산\n",
    "df = pd.read_csv('https://raw.githubusercontent.com/YoungjinBD/dataset/main/HR-Employee-Attrition.csv')\n",
    "df[['MaritalStatus','OverTime']]\n",
    "tab = pd.crosstab(df['MaritalStatus'], df['OverTime'])\n",
    "print(int(abs(487 - 186)))\n",
    "\n",
    "# 가설검정을 위한 검정 통계량 소수점 둘째자리까지 반올림\n",
    "statistic, p_value, df, expected_freq = ss.chi2_contingency(tab)\n",
    "print(round(statistic, 2))\n",
    "\n",
    "# p-value 소수점 넷째자리까지 반올림하고 채택 기각 선택\n",
    "print(round(p_value, 4))\n",
    "# 귀무가설을 기각하지 못한다. 즉, 두 변수는 독립이다. (결혼유무에 따라 초과근로 차이가 없다. )"
   ]
  },
  {
   "cell_type": "code",
   "execution_count": null,
   "metadata": {},
   "outputs": [],
   "source": []
  }
 ],
 "metadata": {
  "kernelspec": {
   "display_name": "Python 3",
   "language": "python",
   "name": "python3"
  },
  "language_info": {
   "codemirror_mode": {
    "name": "ipython",
    "version": 3
   },
   "file_extension": ".py",
   "mimetype": "text/x-python",
   "name": "python",
   "nbconvert_exporter": "python",
   "pygments_lexer": "ipython3",
   "version": "3.9.6"
  }
 },
 "nbformat": 4,
 "nbformat_minor": 2
}
